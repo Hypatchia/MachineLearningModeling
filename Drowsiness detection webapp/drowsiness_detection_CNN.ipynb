{
  "cells": [
    {
      "cell_type": "markdown",
      "metadata": {
        "id": "10-v8QmmqgS7"
      },
      "source": [
        "\n",
        "The goal is to detect whether a driver has closed eyes or open eyes"
      ]
    },
    {
      "cell_type": "code",
      "execution_count": 6,
      "metadata": {
        "colab": {
          "base_uri": "https://localhost:8080/"
        },
        "id": "k4r_Uo1I4yv2",
        "outputId": "3371ba98-08e5-4c09-dafd-9ca1945c58c2"
      },
      "outputs": [
        {
          "name": "stderr",
          "output_type": "stream",
          "text": [
            "ERROR: Invalid requirement: '#face'\n",
            "ERROR: Invalid requirement: '#library'\n"
          ]
        }
      ],
      "source": [
        "#installs:\n",
        "!pip install dlib \n",
        "!pip install face_recognition "
      ]
    },
    {
      "cell_type": "markdown",
      "metadata": {
        "id": "avRcw8n2qfh3"
      },
      "source": []
    },
    {
      "cell_type": "code",
      "execution_count": 2,
      "metadata": {
        "id": "eQ9CaPM-6G2T"
      },
      "outputs": [
        {
          "ename": "ModuleNotFoundError",
          "evalue": "No module named 'face_recognition'",
          "output_type": "error",
          "traceback": [
            "\u001b[1;31m---------------------------------------------------------------------------\u001b[0m",
            "\u001b[1;31mModuleNotFoundError\u001b[0m                       Traceback (most recent call last)",
            "\u001b[1;32m<ipython-input-2-65b5d77a2ae8>\u001b[0m in \u001b[0;36m<module>\u001b[1;34m\u001b[0m\n\u001b[0;32m      1\u001b[0m \u001b[1;32mfrom\u001b[0m \u001b[0mPIL\u001b[0m \u001b[1;32mimport\u001b[0m \u001b[0mImage\u001b[0m\u001b[1;33m,\u001b[0m \u001b[0mImageDraw\u001b[0m \u001b[1;31m# Python Imaging library\u001b[0m\u001b[1;33m\u001b[0m\u001b[1;33m\u001b[0m\u001b[0m\n\u001b[1;32m----> 2\u001b[1;33m \u001b[1;32mimport\u001b[0m \u001b[0mface_recognition\u001b[0m\u001b[1;33m\u001b[0m\u001b[1;33m\u001b[0m\u001b[0m\n\u001b[0m\u001b[0;32m      3\u001b[0m \u001b[1;32mimport\u001b[0m \u001b[0mos\u001b[0m\u001b[1;33m\u001b[0m\u001b[1;33m\u001b[0m\u001b[0m\n",
            "\u001b[1;31mModuleNotFoundError\u001b[0m: No module named 'face_recognition'"
          ]
        }
      ],
      "source": [
        "from PIL import Image, ImageDraw # Python Imaging library\n",
        "import face_recognition\n",
        "import os"
      ]
    },
    {
      "cell_type": "code",
      "execution_count": null,
      "metadata": {
        "id": "J4MdlRow6TW2"
      },
      "outputs": [],
      "source": [
        "#in order to make sure we have the right size\n",
        "#define a function to crop eyes images\n",
        "def eye_cropper(folders):\n",
        "\n",
        "  #Going through each image file \n",
        "  for folder in os.listdir(folders):\n",
        "    for file in os.listdir(folders + '/' + folder):\n",
        "      #Loading image files usinf facial recognition package\n",
        "      image = face_recognition.load_image_file(folders + '/' + folder + file)\n",
        "      #get the face landmarks coordinates\n",
        "      face_landmarks_list = face_recognition.face_landmarks(image)\n",
        "      #create a placeholder list for eye coordinates\n",
        "      eyes=[]\n",
        "      try:\n",
        "        eyes.append(face_landmarks_list[0]['left_eye'])\n",
        "        eyes.append(face_landmarks_list[0]['left_eye'])\n",
        "      except:\n",
        "        continue\n",
        "      #get the max  and min coordinates of eye\n",
        "      for eye in eyes :\n",
        "        x_max = max([coordinate[0] for coordinate in eye])\n",
        "        x_min = min([coordinate[0] for coordinate in eye])\n",
        "        y_max = max([coordinate[1] for coordinate in eye])\n",
        "        y_min = min([coordinate[1] for coordinate in eye])\n",
        "\n",
        "\n",
        "        #get the range of x & y\n",
        "        x_range = x_max - x_min\n",
        "        y_range = y_max - y_min\n",
        "\n",
        "\n",
        "\n",
        "        if x_range > y_range :\n",
        "          right = round (.5*x_range) +  x_max\n",
        "          left = x_min - round(.5*x_range)\n",
        "          bottom = round(((right-left) - y_range))/2 + y_max\n",
        "          top = y_min - round(((right-left) - y_range))/2\n",
        "        else: \n",
        "          bottom = round (.5*y_range) +  y_max\n",
        "          top = y_min - round(.5*y_range)\n",
        "          right = round(((bottom-top) - x_range))/2 + x_max\n",
        "          left = x_min - round(((bottom-top) - x_range))/2\n",
        "        #crop original image using cushioned coords\n",
        "        im = Image.open(folders + '/' + folder + '/' + file)\n",
        "        im = im.crop((left, top, right , bottom))\n",
        "        \n",
        "        #resize image for input into our model\n",
        "        im = im.resize((80,80))\n",
        "\n",
        "        #save file to output folder\n",
        "\n",
        "        im.save('CroppedEyesFolder')\n",
        "\n",
        "\n",
        "\n",
        "\n",
        "\n",
        "\n",
        "\n"
      ]
    },
    {
      "cell_type": "markdown",
      "metadata": {
        "id": "Al4lo-dUqeno"
      },
      "source": []
    },
    {
      "cell_type": "code",
      "execution_count": 4,
      "metadata": {
        "id": "DtRxe4hW2Iy7"
      },
      "outputs": [
        {
          "ename": "ModuleNotFoundError",
          "evalue": "No module named 'cv2'",
          "output_type": "error",
          "traceback": [
            "\u001b[1;31m---------------------------------------------------------------------------\u001b[0m",
            "\u001b[1;31mModuleNotFoundError\u001b[0m                       Traceback (most recent call last)",
            "\u001b[1;32m<ipython-input-4-4152f16accda>\u001b[0m in \u001b[0;36m<module>\u001b[1;34m\u001b[0m\n\u001b[0;32m      1\u001b[0m \u001b[1;31m#Prepare Image Data :\u001b[0m\u001b[1;33m\u001b[0m\u001b[1;33m\u001b[0m\u001b[1;33m\u001b[0m\u001b[0m\n\u001b[1;32m----> 2\u001b[1;33m \u001b[1;32mimport\u001b[0m \u001b[0mcv2\u001b[0m\u001b[1;33m\u001b[0m\u001b[1;33m\u001b[0m\u001b[0m\n\u001b[0m\u001b[0;32m      3\u001b[0m \u001b[1;32mimport\u001b[0m \u001b[0mtensorflow\u001b[0m \u001b[1;32mas\u001b[0m \u001b[0mtf\u001b[0m\u001b[1;33m\u001b[0m\u001b[1;33m\u001b[0m\u001b[0m\n\u001b[0;32m      4\u001b[0m \u001b[1;32mfrom\u001b[0m \u001b[0mtensorflow\u001b[0m \u001b[1;32mimport\u001b[0m \u001b[0mkeras\u001b[0m\u001b[1;33m\u001b[0m\u001b[1;33m\u001b[0m\u001b[0m\n\u001b[0;32m      5\u001b[0m \u001b[1;32mfrom\u001b[0m \u001b[0msklearn\u001b[0m\u001b[1;33m.\u001b[0m\u001b[0mmodel_selection\u001b[0m \u001b[1;32mimport\u001b[0m \u001b[0mtrain_test_split\u001b[0m\u001b[1;33m\u001b[0m\u001b[1;33m\u001b[0m\u001b[0m\n",
            "\u001b[1;31mModuleNotFoundError\u001b[0m: No module named 'cv2'"
          ]
        }
      ],
      "source": [
        "#Prepare Image Data :\n",
        "import cv2\n",
        "import tensorflow as tf\n",
        "from tensorflow import keras\n",
        "from sklearn.model_selection import train_test_split\n",
        "from tensorflow.keras.wrappers.scikit_learn import KerasClassifier\n",
        "from keras.models import Sequential\n",
        "from keras.layers import Dense,Flatten , Conv2D, MaxPooling2D,Dropout\n"
      ]
    },
    {
      "cell_type": "code",
      "execution_count": null,
      "metadata": {
        "id": "wDuuiuF9CE86"
      },
      "outputs": [],
      "source": [
        "# Importing images & resizing them:\n",
        "def load_images_from_folder(folder, eyes =0):\n",
        "  count = 0\n",
        "  error_count = 0\n",
        "  images = []\n",
        "  for filename in os.listdir(folder):\n",
        "    try :\n",
        "      img = cv2.imread(os.path.join(folder,filename))\n",
        "      img = cv2.resize(img,(80,80)) \n",
        "      images.append([img,eyes])\n",
        "    except:\n",
        "      error_count +=1\n",
        "      print('ErrorCount = '+ str(error_count))\n",
        "      continue\n",
        "    count+=1\n",
        "    if count % 500 ==0:\n",
        "      print(('Successful Image Import Count = ' +str(count)))\n",
        "  return images"
      ]
    },
    {
      "cell_type": "code",
      "execution_count": null,
      "metadata": {
        "id": "9TdgXkq_1hnn"
      },
      "outputs": [],
      "source": [
        "#LABELING IMAGES FOR OBJECT DETECTION:\n"
      ]
    },
    {
      "cell_type": "code",
      "execution_count": null,
      "metadata": {
        "colab": {
          "base_uri": "https://localhost:8080/",
          "height": 357
        },
        "id": "GmXG2RSyYbbp",
        "outputId": "a10bec6c-aaee-4bae-bd29-9abac9932274"
      },
      "outputs": [
        {
          "ename": "NameError",
          "evalue": "ignored",
          "output_type": "error",
          "traceback": [
            "\u001b[0;31m---------------------------------------------------------------------------\u001b[0m",
            "\u001b[0;31mNameError\u001b[0m                                 Traceback (most recent call last)",
            "\u001b[0;32m<ipython-input-4-1a678d333bb7>\u001b[0m in \u001b[0;36m<module>\u001b[0;34m()\u001b[0m\n\u001b[1;32m      1\u001b[0m \u001b[0mfolder\u001b[0m \u001b[0;34m=\u001b[0m \u001b[0;34m\"\"\u001b[0m\u001b[0;34m\u001b[0m\u001b[0;34m\u001b[0m\u001b[0m\n\u001b[0;32m----> 2\u001b[0;31m \u001b[0mopen_eyes\u001b[0m \u001b[0;34m=\u001b[0m \u001b[0mload_images_from_folder\u001b[0m\u001b[0;34m(\u001b[0m\u001b[0mfolder\u001b[0m\u001b[0;34m,\u001b[0m \u001b[0;36m0\u001b[0m\u001b[0;34m)\u001b[0m\u001b[0;34m\u001b[0m\u001b[0;34m\u001b[0m\u001b[0m\n\u001b[0m\u001b[1;32m      3\u001b[0m \u001b[0;34m\u001b[0m\u001b[0m\n\u001b[1;32m      4\u001b[0m \u001b[0mfolder\u001b[0m \u001b[0;34m=\u001b[0m\u001b[0;34m\"\"\u001b[0m\u001b[0;34m\u001b[0m\u001b[0;34m\u001b[0m\u001b[0m\n\u001b[1;32m      5\u001b[0m \u001b[0mclosed_eyes\u001b[0m \u001b[0;34m=\u001b[0m \u001b[0mload_images_from_folder\u001b[0m\u001b[0;34m(\u001b[0m\u001b[0mfolder\u001b[0m\u001b[0;34m,\u001b[0m\u001b[0;36m1\u001b[0m\u001b[0;34m)\u001b[0m\u001b[0;34m\u001b[0m\u001b[0;34m\u001b[0m\u001b[0m\n",
            "\u001b[0;32m<ipython-input-3-3ff67d0029ac>\u001b[0m in \u001b[0;36mload_images_from_folder\u001b[0;34m(folder, eyes)\u001b[0m\n\u001b[1;32m      4\u001b[0m   \u001b[0merror_count\u001b[0m \u001b[0;34m=\u001b[0m \u001b[0;36m0\u001b[0m\u001b[0;34m\u001b[0m\u001b[0;34m\u001b[0m\u001b[0m\n\u001b[1;32m      5\u001b[0m   \u001b[0mimages\u001b[0m \u001b[0;34m=\u001b[0m \u001b[0;34m[\u001b[0m\u001b[0;34m]\u001b[0m\u001b[0;34m\u001b[0m\u001b[0;34m\u001b[0m\u001b[0m\n\u001b[0;32m----> 6\u001b[0;31m   \u001b[0;32mfor\u001b[0m \u001b[0mfilename\u001b[0m \u001b[0;32min\u001b[0m \u001b[0mos\u001b[0m\u001b[0;34m.\u001b[0m\u001b[0mlistdir\u001b[0m\u001b[0;34m(\u001b[0m\u001b[0mfolder\u001b[0m\u001b[0;34m)\u001b[0m\u001b[0;34m:\u001b[0m\u001b[0;34m\u001b[0m\u001b[0;34m\u001b[0m\u001b[0m\n\u001b[0m\u001b[1;32m      7\u001b[0m     \u001b[0;32mtry\u001b[0m \u001b[0;34m:\u001b[0m\u001b[0;34m\u001b[0m\u001b[0;34m\u001b[0m\u001b[0m\n\u001b[1;32m      8\u001b[0m       \u001b[0mimg\u001b[0m \u001b[0;34m=\u001b[0m \u001b[0mcv2\u001b[0m\u001b[0;34m.\u001b[0m\u001b[0mimread\u001b[0m\u001b[0;34m(\u001b[0m\u001b[0mos\u001b[0m\u001b[0;34m.\u001b[0m\u001b[0mpath\u001b[0m\u001b[0;34m.\u001b[0m\u001b[0mjoin\u001b[0m\u001b[0;34m(\u001b[0m\u001b[0mfolder\u001b[0m\u001b[0;34m,\u001b[0m\u001b[0mfilename\u001b[0m\u001b[0;34m)\u001b[0m\u001b[0;34m)\u001b[0m\u001b[0;34m\u001b[0m\u001b[0;34m\u001b[0m\u001b[0m\n",
            "\u001b[0;31mNameError\u001b[0m: name 'os' is not defined"
          ]
        }
      ],
      "source": [
        "folder = \"../Train_Data\"\n",
        "open_eyes = load_images_from_folder(folder, 0)\n",
        "\n",
        "folder =\"../Train_Data\"\n",
        "closed_eyes = load_images_from_folder(folder,1)\n",
        "eyes = close_eyes + open_eyes"
      ]
    },
    {
      "cell_type": "code",
      "execution_count": null,
      "metadata": {
        "colab": {
          "base_uri": "https://localhost:8080/",
          "height": 235
        },
        "id": "3mAnlz2SYzwU",
        "outputId": "a9c36e11-eb9a-4ea6-b898-8dc60498a9aa"
      },
      "outputs": [
        {
          "ename": "NameError",
          "evalue": "ignored",
          "output_type": "error",
          "traceback": [
            "\u001b[0;31m---------------------------------------------------------------------------\u001b[0m",
            "\u001b[0;31mNameError\u001b[0m                                 Traceback (most recent call last)",
            "\u001b[0;32m<ipython-input-5-d28f99012d18>\u001b[0m in \u001b[0;36m<module>\u001b[0;34m()\u001b[0m\n\u001b[1;32m      1\u001b[0m \u001b[0mx\u001b[0m \u001b[0;34m=\u001b[0m \u001b[0;34m[\u001b[0m\u001b[0;34m]\u001b[0m\u001b[0;34m\u001b[0m\u001b[0;34m\u001b[0m\u001b[0m\n\u001b[1;32m      2\u001b[0m \u001b[0my\u001b[0m\u001b[0;34m=\u001b[0m \u001b[0;34m[\u001b[0m\u001b[0;34m]\u001b[0m\u001b[0;34m\u001b[0m\u001b[0;34m\u001b[0m\u001b[0m\n\u001b[0;32m----> 3\u001b[0;31m \u001b[0;32mfor\u001b[0m \u001b[0mfeatures\u001b[0m\u001b[0;34m,\u001b[0m \u001b[0mlabel\u001b[0m \u001b[0;32min\u001b[0m \u001b[0meyes\u001b[0m \u001b[0;34m:\u001b[0m\u001b[0;34m\u001b[0m\u001b[0;34m\u001b[0m\u001b[0m\n\u001b[0m\u001b[1;32m      4\u001b[0m   \u001b[0mx\u001b[0m\u001b[0;34m.\u001b[0m\u001b[0mappend\u001b[0m\u001b[0;34m(\u001b[0m\u001b[0mfeatures\u001b[0m\u001b[0;34m)\u001b[0m\u001b[0;34m\u001b[0m\u001b[0;34m\u001b[0m\u001b[0m\n\u001b[1;32m      5\u001b[0m   \u001b[0my\u001b[0m\u001b[0;34m.\u001b[0m\u001b[0mappend\u001b[0m\u001b[0;34m(\u001b[0m\u001b[0mlabel\u001b[0m\u001b[0;34m)\u001b[0m\u001b[0;34m\u001b[0m\u001b[0;34m\u001b[0m\u001b[0m\n",
            "\u001b[0;31mNameError\u001b[0m: name 'eyes' is not defined"
          ]
        }
      ],
      "source": [
        "x = []\n",
        "y= []\n",
        "for features, label in eyes :\n",
        "  x.append(features)\n",
        "  y.append(label)\n",
        "\n",
        "\n",
        "\n",
        "X = np.array(X).reshape(-1, 80, 80, 3)\n",
        "y = np.array(y)\n",
        "X = X/255.0\n",
        "\n",
        "X_train, X_test, y_train, y_test = train_test_split(X, y, stratify = y)"
      ]
    },
    {
      "cell_type": "code",
      "execution_count": null,
      "metadata": {
        "id": "4dZA2GnfpjGN"
      },
      "outputs": [],
      "source": [
        "#Creating the Model:\n",
        "#Intantiate the model:\n",
        "model =Sequential([Conv2D(\n",
        "                filters = 32, # number of filters\n",
        "                kernel_size = (3,3), # height/width of filter\n",
        "                activation = 'relu', # activation function \n",
        "                input_shape = (80,80,3) # shape of input (image)\n",
        "                ),\n",
        "                Conv2D(\n",
        "                filters = 32, # number of filters\n",
        "                kernel_size = (3,3), # height/width of filter\n",
        "                activation = 'relu' # activation function \n",
        "                ),\n",
        "                Conv2D(\n",
        "                filters = 32, # number of filters\n",
        "                kernel_size = (3,3), # height/width of filter\n",
        "                activation = 'relu' # activation function \n",
        "                ),\n",
        "                MaxPooling2D(pool_size = (2,2)),\n",
        "                Conv2D(\n",
        "                filters = 32, # number of filters\n",
        "                kernel_size = (3,3), # height/width of filter\n",
        "                activation = 'relu' # activation function \n",
        "                ),\n",
        "                Conv2D(\n",
        "                filters = 32, # number of filters\n",
        "                kernel_size = (3,3), # height/width of filter\n",
        "                activation = 'relu' # activation function \n",
        "                ),\n",
        "                MaxPooling2D(pool_size=(2,2)),\n",
        "                Flatten(),\n",
        "                Dense(256, activation='relu'),\n",
        "                Dropout(0.3),\n",
        "                Dense(128, activation='relu'),\n",
        "                Dropout(0.3),\n",
        "                Dense(64, activation='relu'),\n",
        "                Dropout(0.3),\n",
        "                Dense(1, activation = 'sigmoid')\n",
        "\n",
        "\n",
        "                  \n",
        "])"
      ]
    },
    {
      "cell_type": "code",
      "execution_count": null,
      "metadata": {
        "id": "h_y2FE2ese89"
      },
      "outputs": [],
      "source": []
    },
    {
      "cell_type": "code",
      "execution_count": null,
      "metadata": {
        "id": "xVgnYIMRqj8f"
      },
      "outputs": [],
      "source": [
        "# compiling the model\n",
        "model.compile(loss='binary_crossentropy',\n",
        "                optimizer='adam',\n",
        "                metrics=[tf.keras.metrics.AUC(curve = 'PR')])\n"
      ]
    },
    {
      "cell_type": "code",
      "execution_count": null,
      "metadata": {
        "colab": {
          "base_uri": "https://localhost:8080/"
        },
        "id": "EuIAeAeAsfqB",
        "outputId": "86d6cb6c-fb47-4568-c781-adc4a67cb080"
      },
      "outputs": [
        {
          "name": "stdout",
          "output_type": "stream",
          "text": [
            "Model: \"sequential_1\"\n",
            "_________________________________________________________________\n",
            "Layer (type)                 Output Shape              Param #   \n",
            "=================================================================\n",
            "conv2d_1 (Conv2D)            (None, 78, 78, 32)        896       \n",
            "_________________________________________________________________\n",
            "conv2d_2 (Conv2D)            (None, 76, 76, 32)        9248      \n",
            "_________________________________________________________________\n",
            "conv2d_3 (Conv2D)            (None, 74, 74, 32)        9248      \n",
            "_________________________________________________________________\n",
            "max_pooling2d (MaxPooling2D) (None, 37, 37, 32)        0         \n",
            "_________________________________________________________________\n",
            "conv2d_4 (Conv2D)            (None, 35, 35, 32)        9248      \n",
            "_________________________________________________________________\n",
            "conv2d_5 (Conv2D)            (None, 33, 33, 32)        9248      \n",
            "_________________________________________________________________\n",
            "max_pooling2d_1 (MaxPooling2 (None, 16, 16, 32)        0         \n",
            "_________________________________________________________________\n",
            "flatten (Flatten)            (None, 8192)              0         \n",
            "_________________________________________________________________\n",
            "dense (Dense)                (None, 256)               2097408   \n",
            "_________________________________________________________________\n",
            "dropout (Dropout)            (None, 256)               0         \n",
            "_________________________________________________________________\n",
            "dense_1 (Dense)              (None, 128)               32896     \n",
            "_________________________________________________________________\n",
            "dropout_1 (Dropout)          (None, 128)               0         \n",
            "_________________________________________________________________\n",
            "dense_2 (Dense)              (None, 64)                8256      \n",
            "_________________________________________________________________\n",
            "dropout_2 (Dropout)          (None, 64)                0         \n",
            "_________________________________________________________________\n",
            "dense_3 (Dense)              (None, 1)                 65        \n",
            "=================================================================\n",
            "Total params: 2,176,513\n",
            "Trainable params: 2,176,513\n",
            "Non-trainable params: 0\n",
            "_________________________________________________________________\n"
          ]
        }
      ],
      "source": [
        "model.summary()"
      ]
    },
    {
      "cell_type": "code",
      "execution_count": null,
      "metadata": {
        "colab": {
          "base_uri": "https://localhost:8080/",
          "height": 235
        },
        "id": "ebuFy6B_ql2K",
        "outputId": "04775584-dc74-4194-818e-95218226c8a7"
      },
      "outputs": [
        {
          "ename": "NameError",
          "evalue": "ignored",
          "output_type": "error",
          "traceback": [
            "\u001b[0;31m---------------------------------------------------------------------------\u001b[0m",
            "\u001b[0;31mNameError\u001b[0m                                 Traceback (most recent call last)",
            "\u001b[0;32m<ipython-input-6-e6e83805dc9e>\u001b[0m in \u001b[0;36m<module>\u001b[0;34m()\u001b[0m\n\u001b[1;32m      1\u001b[0m \u001b[0;31m# fitting the model\u001b[0m\u001b[0;34m\u001b[0m\u001b[0;34m\u001b[0m\u001b[0;34m\u001b[0m\u001b[0m\n\u001b[0;32m----> 2\u001b[0;31m model.fit(X_train,\n\u001b[0m\u001b[1;32m      3\u001b[0m             \u001b[0my_train\u001b[0m\u001b[0;34m,\u001b[0m\u001b[0;34m\u001b[0m\u001b[0;34m\u001b[0m\u001b[0m\n\u001b[1;32m      4\u001b[0m             \u001b[0mbatch_size\u001b[0m\u001b[0;34m=\u001b[0m\u001b[0;36m800\u001b[0m\u001b[0;34m,\u001b[0m\u001b[0;34m\u001b[0m\u001b[0;34m\u001b[0m\u001b[0m\n\u001b[1;32m      5\u001b[0m             \u001b[0mvalidation_data\u001b[0m\u001b[0;34m=\u001b[0m\u001b[0;34m(\u001b[0m\u001b[0mX_test\u001b[0m\u001b[0;34m,\u001b[0m \u001b[0my_test\u001b[0m\u001b[0;34m)\u001b[0m\u001b[0;34m,\u001b[0m\u001b[0;34m\u001b[0m\u001b[0;34m\u001b[0m\u001b[0m\n",
            "\u001b[0;31mNameError\u001b[0m: name 'X_train' is not defined"
          ]
        }
      ],
      "source": [
        "# fitting the model\n",
        "model.fit(X_train,\n",
        "            y_train,\n",
        "            batch_size=800,\n",
        "            validation_data=(X_test, y_test),\n",
        "            epochs=24)\n",
        "\n",
        "# evaluate the model \n",
        "model.evaluate(X_test, y_test, verbose=1)"
      ]
    },
    {
      "cell_type": "code",
      "execution_count": null,
      "metadata": {},
      "outputs": [],
      "source": []
    },
    {
      "cell_type": "code",
      "execution_count": null,
      "metadata": {
        "id": "Zp_M0k-6ssxr"
      },
      "outputs": [],
      "source": [
        "model.save('DrowsinessDetectionModel.h5')"
      ]
    }
  ],
  "metadata": {
    "accelerator": "GPU",
    "colab": {
      "collapsed_sections": [],
      "name": "drowsiness detection CNN.ipynb",
      "provenance": []
    },
    "kernelspec": {
      "display_name": "Python 3.8.5 64-bit ('base': conda)",
      "name": "python385jvsc74a57bd0874a3a394f8fdb3110804376a64b5f8c9bc80a904e3247394eda2c7dc8f938cd"
    },
    "language_info": {
      "name": "python",
      "version": "3.8.5"
    }
  },
  "nbformat": 4,
  "nbformat_minor": 0
}
