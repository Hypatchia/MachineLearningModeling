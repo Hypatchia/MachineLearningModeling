{
  "cells": [
    {
      "cell_type": "code",
      "execution_count": null,
      "metadata": {
        "id": "U-qQN7_evu7_"
      },
      "outputs": [],
      "source": [
        "import numpy as np\n",
        "import tensorflow as tf\n"
      ]
    },
    {
      "cell_type": "code",
      "execution_count": null,
      "metadata": {
        "id": "DMg1f-44v0Jm"
      },
      "outputs": [],
      "source": [
        "size = 30"
      ]
    },
    {
      "cell_type": "code",
      "execution_count": null,
      "metadata": {
        "id": "Q5iFYR0Vv2yi"
      },
      "outputs": [],
      "source": [
        "Generator = keras.models.Sequential(\n",
        "  [\n",
        "    keras.layers.Dense(100,activation = \"selu\",input_shape = [size]),\n",
        "    keras.layers.Dense(150, activation = \"selu\"),\n",
        "    keras.layers.Dense(28*28, activation =\"sigmoid\"),\n",
        "    keras.layers.Reshape([28,28])\n",
        "    ])"
      ]
    },
    {
      "cell_type": "code",
      "execution_count": null,
      "metadata": {
        "id": "sSOD2zPVwxWv"
      },
      "outputs": [],
      "source": [
        "Discriminator = keras.models.Sequential(\n",
        "  [\n",
        "    keras.layers.Flatten(input_shape = [28,28]),\n",
        "    keras.layers.Dense(150,activation = \"selu\"),\n",
        "    keras.layers.Dense(100, activation = \"selu\"),\n",
        "    keras.layers.Dense(1, activation =\"sigmoid\"),\n",
        "  ])"
      ]
    },
    {
      "cell_type": "code",
      "execution_count": null,
      "metadata": {
        "id": "QQbdCtkFyibe"
      },
      "outputs": [],
      "source": [
        "GAN = keras.models.Sequential([Generator,Discriminator])"
      ]
    },
    {
      "cell_type": "code",
      "execution_count": null,
      "metadata": {
        "colab": {
          "base_uri": "https://localhost:8080/"
        },
        "id": "w-HXBt3A1IyL",
        "outputId": "8a8f1f18-1c86-4879-aaaf-ec5b82a3a76d"
      },
      "outputs": [],
      "source": [
        "GAN.summary()"
      ]
    },
    {
      "cell_type": "code",
      "execution_count": null,
      "metadata": {
        "id": "TyAVBkjH1Jod"
      },
      "outputs": [],
      "source": [
        "Discriminator.compile(loss = \"binary_crossentropy\", optimizer = \"rmsprop\")"
      ]
    },
    {
      "cell_type": "code",
      "execution_count": null,
      "metadata": {
        "id": "ZKdb_-DG1epm"
      },
      "outputs": [],
      "source": [
        "Discriminator.trainable = False"
      ]
    },
    {
      "cell_type": "code",
      "execution_count": null,
      "metadata": {
        "id": "4vmAQo7B1y1L"
      },
      "outputs": [],
      "source": [
        "GAN.compile(loss = \"binary_crossentropy\", optimizer = \"rmsprop\")"
      ]
    },
    {
      "cell_type": "code",
      "execution_count": null,
      "metadata": {
        "colab": {
          "base_uri": "https://localhost:8080/"
        },
        "id": "Lqo4rqz216GJ",
        "outputId": "e3d192bf-63f9-4875-8dca-efcf370ce074"
      },
      "outputs": [],
      "source": [
        "#Data to Redo .\n",
        "batch_size = 32\n",
        "\n",
        "\n",
        "dataset = tf.data.Dataset.from_tensor_slices(X_train).shuffle(1000)\n",
        "dataset = dataset.batch(batch_size, drop_remainder=True).prefetch(1)\n",
        "len(list(dataset.as_numpy_iterator()))"
      ]
    },
    {
      "cell_type": "code",
      "execution_count": null,
      "metadata": {
        "id": "3U7Hu5rH2ixR"
      },
      "outputs": [],
      "source": [
        "#training loop\n",
        "def Train_GAN(GAN ,dataset ,batch_size ,size ,n_epochs = 50):\n",
        "  Generator , Discriminator = GAN.layers\n",
        "  for epoch in range(n_epochs):\n",
        "    for X_batch in dataset :\n",
        "      print('batch i')\n",
        "      #discriminator training :\n",
        "      noise = tf.random.normal(shape = [batch_size , size])\n",
        "      generated = Generator(noise)\n",
        "      X_fake_nd_real = tf.concat([generated ,X_batch],axis = 0)\n",
        "      y_fake_nd_real = tf.constant([[0.]]*batch_size+[[1.]]*batch_size)\n",
        "      Discriminator.trainable = True\n",
        "      Discriminator.train_on_batch(X_fake_nd_real,y_fake_nd_real)\n",
        "\n",
        "      #generator training \n",
        "      noise = tf.random.normal(shape = [batch_size , size])\n",
        "      y = tf.constant([[1.]]*batch_size)\n",
        "      Discriminator.trainable = False\n",
        "      GAN.train_on_batch(noise,y)"
      ]
    },
    {
      "cell_type": "code",
      "execution_count": null,
      "metadata": {
        "colab": {
          "base_uri": "https://localhost:8080/",
          "height": 1000
        },
        "id": "6SuFFNoz7xfX",
        "outputId": "ad101711-3f94-4b7a-ee3c-7b93304198b4"
      },
      "outputs": [],
      "source": [
        "Train_GAN(GAN ,dataset ,batch_size ,size )"
      ]
    },
    {
      "cell_type": "code",
      "execution_count": null,
      "metadata": {
        "id": "XCRQKbBB79WE"
      },
      "outputs": [],
      "source": []
    },
    {
      "cell_type": "code",
      "execution_count": null,
      "metadata": {},
      "outputs": [],
      "source": []
    }
  ],
  "metadata": {
    "colab": {
      "provenance": []
    },
    "kernelspec": {
      "display_name": "Python 3.9.12 ('base')",
      "language": "python",
      "name": "python3"
    },
    "language_info": {
      "codemirror_mode": {
        "name": "ipython",
        "version": 3
      },
      "file_extension": ".py",
      "mimetype": "text/x-python",
      "name": "python",
      "nbconvert_exporter": "python",
      "pygments_lexer": "ipython3",
      "version": "3.9.12"
    },
    "vscode": {
      "interpreter": {
        "hash": "1426df5b8ab90d2dab03fd9c662bb140c792d49c1ebf463cfc4cbe2d43015cbc"
      }
    }
  },
  "nbformat": 4,
  "nbformat_minor": 0
}
