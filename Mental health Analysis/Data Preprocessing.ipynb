{
 "metadata": {
  "language_info": {
   "codemirror_mode": {
    "name": "ipython",
    "version": 3
   },
   "file_extension": ".py",
   "mimetype": "text/x-python",
   "name": "python",
   "nbconvert_exporter": "python",
   "pygments_lexer": "ipython3",
   "version": "3.8.5-final"
  },
  "orig_nbformat": 2,
  "kernelspec": {
   "name": "python3",
   "display_name": "Python 3.8.5 64-bit (conda)",
   "metadata": {
    "interpreter": {
     "hash": "874a3a394f8fdb3110804376a64b5f8c9bc80a904e3247394eda2c7dc8f938cd"
    }
   }
  }
 },
 "nbformat": 4,
 "nbformat_minor": 2,
 "cells": [
  {
   "cell_type": "code",
   "execution_count": 1,
   "metadata": {},
   "outputs": [],
   "source": [
    "import numpy as np \n",
    "import pandas as pd\n",
    "import numpy as np\n",
    "import matplotlib.pyplot as plt\n",
    "import seaborn as sns\n",
    "from pandas.plotting import autocorrelation_plot\n",
    "from pandas.plotting import scatter_matrix\n",
    "from pandas.plotting import autocorrelation_plot\n",
    "from pandas.plotting import parallel_coordinates\n",
    "from pandas.plotting import lag_plot"
   ]
  },
  {
   "cell_type": "code",
   "execution_count": 2,
   "metadata": {},
   "outputs": [
    {
     "output_type": "execute_result",
     "data": {
      "text/plain": [
       "0    Q1 Q2 Q3 Q4 Q5 Q6 Q7 GAD7 Q8 Q9  ...  \\\n",
       "0     0  0  1  0  0  0  1    2  0  1  ...   \n",
       "1     1  1  0  2  0  2  2    8  1  0  ...   \n",
       "2     1  1  0  2  0  0  0    4  0  0  ...   \n",
       "3     1  1  1  1  2  1  0    7  1  1  ...   \n",
       "4     0  0  0  1  0  0  0    1  0  0  ...   \n",
       "...  .. .. .. .. .. .. ..  ... .. ..  ...   \n",
       "1257  2  0  1  3  1  2  2   11  0  0  ...   \n",
       "1258  0  0  0  0  0  0  0    0  0  0  ...   \n",
       "1259  1  1  1  1  0  0  1    5  2  1  ...   \n",
       "1260  0  0  1  0  0  0  1    2  0  0  ...   \n",
       "1261  1  0  1  1  0  1  1    5  1  0  ...   \n",
       "\n",
       "0    sleepquality (0=bad quality, 1=good quality) sleepduration (in hours)  \\\n",
       "0                                               1                        7   \n",
       "1                                               1                      6.5   \n",
       "2                                               1                        8   \n",
       "3                                               0                        7   \n",
       "4                                               1                       10   \n",
       "...                                           ...                      ...   \n",
       "1257                                            1                      6.5   \n",
       "1258                                            1                        8   \n",
       "1259                                            1                        8   \n",
       "1260                                            1                        6   \n",
       "1261                                            1                        5   \n",
       "\n",
       "0    sleepproblems (0=no problems, 1=at least 1 problem) phys1 phys2 phys3  \\\n",
       "0                                                     0      2     1     3   \n",
       "1                                                     0      2  0.25     2   \n",
       "2                                                     0      2     1     5   \n",
       "3                                                     1      1  0.50     2   \n",
       "4                                                     1      5  0.50     7   \n",
       "...                                                 ...    ...   ...   ...   \n",
       "1257                                                  0      7     1     7   \n",
       "1258                                                  0      2  0.50     2   \n",
       "1259                                                  1      5     1     5   \n",
       "1260                                                  1      5     1     7   \n",
       "1261                                                  1      7     3     7   \n",
       "\n",
       "0    phys4 gender age    city  \n",
       "0     0.08      0  17   Amman  \n",
       "1        0      0  53   Amman  \n",
       "2        2      0  52   Irbid  \n",
       "3     0.17      0  21   Amman  \n",
       "4     0.50      1  38   Irbid  \n",
       "...    ...    ...  ..     ...  \n",
       "1257     1      1  34   Amman  \n",
       "1258   .50      1  47   Amman  \n",
       "1259     1      0  54  Amman   \n",
       "1260  0.75      0  69   Amman  \n",
       "1261     3      1  38   Amman  \n",
       "\n",
       "[1262 rows x 30 columns]"
      ],
      "text/html": "<div>\n<style scoped>\n    .dataframe tbody tr th:only-of-type {\n        vertical-align: middle;\n    }\n\n    .dataframe tbody tr th {\n        vertical-align: top;\n    }\n\n    .dataframe thead th {\n        text-align: right;\n    }\n</style>\n<table border=\"1\" class=\"dataframe\">\n  <thead>\n    <tr style=\"text-align: right;\">\n      <th></th>\n      <th>Q1</th>\n      <th>Q2</th>\n      <th>Q3</th>\n      <th>Q4</th>\n      <th>Q5</th>\n      <th>Q6</th>\n      <th>Q7</th>\n      <th>GAD7</th>\n      <th>Q8</th>\n      <th>Q9</th>\n      <th>...</th>\n      <th>sleepquality (0=bad quality, 1=good quality)</th>\n      <th>sleepduration (in hours)</th>\n      <th>sleepproblems (0=no problems, 1=at least 1 problem)</th>\n      <th>phys1</th>\n      <th>phys2</th>\n      <th>phys3</th>\n      <th>phys4</th>\n      <th>gender</th>\n      <th>age</th>\n      <th>city</th>\n    </tr>\n  </thead>\n  <tbody>\n    <tr>\n      <th>0</th>\n      <td>0</td>\n      <td>0</td>\n      <td>1</td>\n      <td>0</td>\n      <td>0</td>\n      <td>0</td>\n      <td>1</td>\n      <td>2</td>\n      <td>0</td>\n      <td>1</td>\n      <td>...</td>\n      <td>1</td>\n      <td>7</td>\n      <td>0</td>\n      <td>2</td>\n      <td>1</td>\n      <td>3</td>\n      <td>0.08</td>\n      <td>0</td>\n      <td>17</td>\n      <td>Amman</td>\n    </tr>\n    <tr>\n      <th>1</th>\n      <td>1</td>\n      <td>1</td>\n      <td>0</td>\n      <td>2</td>\n      <td>0</td>\n      <td>2</td>\n      <td>2</td>\n      <td>8</td>\n      <td>1</td>\n      <td>0</td>\n      <td>...</td>\n      <td>1</td>\n      <td>6.5</td>\n      <td>0</td>\n      <td>2</td>\n      <td>0.25</td>\n      <td>2</td>\n      <td>0</td>\n      <td>0</td>\n      <td>53</td>\n      <td>Amman</td>\n    </tr>\n    <tr>\n      <th>2</th>\n      <td>1</td>\n      <td>1</td>\n      <td>0</td>\n      <td>2</td>\n      <td>0</td>\n      <td>0</td>\n      <td>0</td>\n      <td>4</td>\n      <td>0</td>\n      <td>0</td>\n      <td>...</td>\n      <td>1</td>\n      <td>8</td>\n      <td>0</td>\n      <td>2</td>\n      <td>1</td>\n      <td>5</td>\n      <td>2</td>\n      <td>0</td>\n      <td>52</td>\n      <td>Irbid</td>\n    </tr>\n    <tr>\n      <th>3</th>\n      <td>1</td>\n      <td>1</td>\n      <td>1</td>\n      <td>1</td>\n      <td>2</td>\n      <td>1</td>\n      <td>0</td>\n      <td>7</td>\n      <td>1</td>\n      <td>1</td>\n      <td>...</td>\n      <td>0</td>\n      <td>7</td>\n      <td>1</td>\n      <td>1</td>\n      <td>0.50</td>\n      <td>2</td>\n      <td>0.17</td>\n      <td>0</td>\n      <td>21</td>\n      <td>Amman</td>\n    </tr>\n    <tr>\n      <th>4</th>\n      <td>0</td>\n      <td>0</td>\n      <td>0</td>\n      <td>1</td>\n      <td>0</td>\n      <td>0</td>\n      <td>0</td>\n      <td>1</td>\n      <td>0</td>\n      <td>0</td>\n      <td>...</td>\n      <td>1</td>\n      <td>10</td>\n      <td>1</td>\n      <td>5</td>\n      <td>0.50</td>\n      <td>7</td>\n      <td>0.50</td>\n      <td>1</td>\n      <td>38</td>\n      <td>Irbid</td>\n    </tr>\n    <tr>\n      <th>...</th>\n      <td>...</td>\n      <td>...</td>\n      <td>...</td>\n      <td>...</td>\n      <td>...</td>\n      <td>...</td>\n      <td>...</td>\n      <td>...</td>\n      <td>...</td>\n      <td>...</td>\n      <td>...</td>\n      <td>...</td>\n      <td>...</td>\n      <td>...</td>\n      <td>...</td>\n      <td>...</td>\n      <td>...</td>\n      <td>...</td>\n      <td>...</td>\n      <td>...</td>\n      <td>...</td>\n    </tr>\n    <tr>\n      <th>1257</th>\n      <td>2</td>\n      <td>0</td>\n      <td>1</td>\n      <td>3</td>\n      <td>1</td>\n      <td>2</td>\n      <td>2</td>\n      <td>11</td>\n      <td>0</td>\n      <td>0</td>\n      <td>...</td>\n      <td>1</td>\n      <td>6.5</td>\n      <td>0</td>\n      <td>7</td>\n      <td>1</td>\n      <td>7</td>\n      <td>1</td>\n      <td>1</td>\n      <td>34</td>\n      <td>Amman</td>\n    </tr>\n    <tr>\n      <th>1258</th>\n      <td>0</td>\n      <td>0</td>\n      <td>0</td>\n      <td>0</td>\n      <td>0</td>\n      <td>0</td>\n      <td>0</td>\n      <td>0</td>\n      <td>0</td>\n      <td>0</td>\n      <td>...</td>\n      <td>1</td>\n      <td>8</td>\n      <td>0</td>\n      <td>2</td>\n      <td>0.50</td>\n      <td>2</td>\n      <td>.50</td>\n      <td>1</td>\n      <td>47</td>\n      <td>Amman</td>\n    </tr>\n    <tr>\n      <th>1259</th>\n      <td>1</td>\n      <td>1</td>\n      <td>1</td>\n      <td>1</td>\n      <td>0</td>\n      <td>0</td>\n      <td>1</td>\n      <td>5</td>\n      <td>2</td>\n      <td>1</td>\n      <td>...</td>\n      <td>1</td>\n      <td>8</td>\n      <td>1</td>\n      <td>5</td>\n      <td>1</td>\n      <td>5</td>\n      <td>1</td>\n      <td>0</td>\n      <td>54</td>\n      <td>Amman</td>\n    </tr>\n    <tr>\n      <th>1260</th>\n      <td>0</td>\n      <td>0</td>\n      <td>1</td>\n      <td>0</td>\n      <td>0</td>\n      <td>0</td>\n      <td>1</td>\n      <td>2</td>\n      <td>0</td>\n      <td>0</td>\n      <td>...</td>\n      <td>1</td>\n      <td>6</td>\n      <td>1</td>\n      <td>5</td>\n      <td>1</td>\n      <td>7</td>\n      <td>0.75</td>\n      <td>0</td>\n      <td>69</td>\n      <td>Amman</td>\n    </tr>\n    <tr>\n      <th>1261</th>\n      <td>1</td>\n      <td>0</td>\n      <td>1</td>\n      <td>1</td>\n      <td>0</td>\n      <td>1</td>\n      <td>1</td>\n      <td>5</td>\n      <td>1</td>\n      <td>0</td>\n      <td>...</td>\n      <td>1</td>\n      <td>5</td>\n      <td>1</td>\n      <td>7</td>\n      <td>3</td>\n      <td>7</td>\n      <td>3</td>\n      <td>1</td>\n      <td>38</td>\n      <td>Amman</td>\n    </tr>\n  </tbody>\n</table>\n<p>1262 rows × 30 columns</p>\n</div>"
     },
     "metadata": {},
     "execution_count": 2
    }
   ],
   "source": [
    "#Preprocessing & Handlings\n",
    "Df=pd.DataFrame(pd.read_excel('Dataset_Jordan_COVID_Mental_Health_Paper.xlsx'))\n",
    "Df.columns=Df.loc[0]\n",
    "Df.drop(Df.index[[0]],inplace=True)\n",
    "Df.reset_index(inplace=True,drop=True)\n",
    "Df"
   ]
  },
  {
   "cell_type": "code",
   "execution_count": 3,
   "metadata": {},
   "outputs": [
    {
     "output_type": "execute_result",
     "data": {
      "text/plain": [
       "0         Q1    Q2    Q3    Q4    Q5    Q6    Q7  GAD7    Q8    Q9  ...  \\\n",
       "count   1262  1262  1262  1262  1262  1262  1262  1262  1258  1262  ...   \n",
       "unique     4     4     4     4     4     4     4    22     4     4  ...   \n",
       "top        1     0     1     0     0     1     0     3     0     0  ...   \n",
       "freq     636   620   595   507   757   531   543   151   661   679  ...   \n",
       "\n",
       "0       sleepquality (0=bad quality, 1=good quality)  \\\n",
       "count                                           1262   \n",
       "unique                                             2   \n",
       "top                                                1   \n",
       "freq                                            1033   \n",
       "\n",
       "0       sleepduration (in hours)  \\\n",
       "count                       1262   \n",
       "unique                        73   \n",
       "top                            8   \n",
       "freq                         175   \n",
       "\n",
       "0       sleepproblems (0=no problems, 1=at least 1 problem)  phys1  phys2  \\\n",
       "count                                                1262     1262   1262   \n",
       "unique                                                  2       16     26   \n",
       "top                                                     1        2      1   \n",
       "freq                                                  803      236    290   \n",
       "\n",
       "0       phys3  phys4  gender   age   city  \n",
       "count    1262   1262    1261  1252   1262  \n",
       "unique     17     25       2   123     31  \n",
       "top         7   0.50       0    30  Amman  \n",
       "freq      309    247     664    35    762  \n",
       "\n",
       "[4 rows x 30 columns]"
      ],
      "text/html": "<div>\n<style scoped>\n    .dataframe tbody tr th:only-of-type {\n        vertical-align: middle;\n    }\n\n    .dataframe tbody tr th {\n        vertical-align: top;\n    }\n\n    .dataframe thead th {\n        text-align: right;\n    }\n</style>\n<table border=\"1\" class=\"dataframe\">\n  <thead>\n    <tr style=\"text-align: right;\">\n      <th></th>\n      <th>Q1</th>\n      <th>Q2</th>\n      <th>Q3</th>\n      <th>Q4</th>\n      <th>Q5</th>\n      <th>Q6</th>\n      <th>Q7</th>\n      <th>GAD7</th>\n      <th>Q8</th>\n      <th>Q9</th>\n      <th>...</th>\n      <th>sleepquality (0=bad quality, 1=good quality)</th>\n      <th>sleepduration (in hours)</th>\n      <th>sleepproblems (0=no problems, 1=at least 1 problem)</th>\n      <th>phys1</th>\n      <th>phys2</th>\n      <th>phys3</th>\n      <th>phys4</th>\n      <th>gender</th>\n      <th>age</th>\n      <th>city</th>\n    </tr>\n  </thead>\n  <tbody>\n    <tr>\n      <th>count</th>\n      <td>1262</td>\n      <td>1262</td>\n      <td>1262</td>\n      <td>1262</td>\n      <td>1262</td>\n      <td>1262</td>\n      <td>1262</td>\n      <td>1262</td>\n      <td>1258</td>\n      <td>1262</td>\n      <td>...</td>\n      <td>1262</td>\n      <td>1262</td>\n      <td>1262</td>\n      <td>1262</td>\n      <td>1262</td>\n      <td>1262</td>\n      <td>1262</td>\n      <td>1261</td>\n      <td>1252</td>\n      <td>1262</td>\n    </tr>\n    <tr>\n      <th>unique</th>\n      <td>4</td>\n      <td>4</td>\n      <td>4</td>\n      <td>4</td>\n      <td>4</td>\n      <td>4</td>\n      <td>4</td>\n      <td>22</td>\n      <td>4</td>\n      <td>4</td>\n      <td>...</td>\n      <td>2</td>\n      <td>73</td>\n      <td>2</td>\n      <td>16</td>\n      <td>26</td>\n      <td>17</td>\n      <td>25</td>\n      <td>2</td>\n      <td>123</td>\n      <td>31</td>\n    </tr>\n    <tr>\n      <th>top</th>\n      <td>1</td>\n      <td>0</td>\n      <td>1</td>\n      <td>0</td>\n      <td>0</td>\n      <td>1</td>\n      <td>0</td>\n      <td>3</td>\n      <td>0</td>\n      <td>0</td>\n      <td>...</td>\n      <td>1</td>\n      <td>8</td>\n      <td>1</td>\n      <td>2</td>\n      <td>1</td>\n      <td>7</td>\n      <td>0.50</td>\n      <td>0</td>\n      <td>30</td>\n      <td>Amman</td>\n    </tr>\n    <tr>\n      <th>freq</th>\n      <td>636</td>\n      <td>620</td>\n      <td>595</td>\n      <td>507</td>\n      <td>757</td>\n      <td>531</td>\n      <td>543</td>\n      <td>151</td>\n      <td>661</td>\n      <td>679</td>\n      <td>...</td>\n      <td>1033</td>\n      <td>175</td>\n      <td>803</td>\n      <td>236</td>\n      <td>290</td>\n      <td>309</td>\n      <td>247</td>\n      <td>664</td>\n      <td>35</td>\n      <td>762</td>\n    </tr>\n  </tbody>\n</table>\n<p>4 rows × 30 columns</p>\n</div>"
     },
     "metadata": {},
     "execution_count": 3
    }
   ],
   "source": [
    "Df.describe(include='all')"
   ]
  },
  {
   "cell_type": "code",
   "execution_count": 4,
   "metadata": {
    "tags": []
   },
   "outputs": [
    {
     "output_type": "stream",
     "name": "stdout",
     "text": [
      "0       <class 'int'>\n1       <class 'int'>\n2       <class 'int'>\n3       <class 'int'>\n4       <class 'int'>\n            ...      \n1257    <class 'int'>\n1258    <class 'int'>\n1259    <class 'int'>\n1260    <class 'int'>\n1261    <class 'int'>\nName: Q1, Length: 1262, dtype: object\n0       <class 'int'>\n1       <class 'int'>\n2       <class 'int'>\n3       <class 'int'>\n4       <class 'int'>\n            ...      \n1257    <class 'int'>\n1258    <class 'int'>\n1259    <class 'int'>\n1260    <class 'int'>\n1261    <class 'int'>\nName: Q2, Length: 1262, dtype: object\n0       <class 'int'>\n1       <class 'int'>\n2       <class 'int'>\n3       <class 'int'>\n4       <class 'int'>\n            ...      \n1257    <class 'int'>\n1258    <class 'int'>\n1259    <class 'int'>\n1260    <class 'int'>\n1261    <class 'int'>\nName: Q3, Length: 1262, dtype: object\n0       <class 'int'>\n1       <class 'int'>\n2       <class 'int'>\n3       <class 'int'>\n4       <class 'int'>\n            ...      \n1257    <class 'int'>\n1258    <class 'int'>\n1259    <class 'int'>\n1260    <class 'int'>\n1261    <class 'int'>\nName: Q4, Length: 1262, dtype: object\n0       <class 'int'>\n1       <class 'int'>\n2       <class 'int'>\n3       <class 'int'>\n4       <class 'int'>\n            ...      \n1257    <class 'int'>\n1258    <class 'int'>\n1259    <class 'int'>\n1260    <class 'int'>\n1261    <class 'int'>\nName: Q5, Length: 1262, dtype: object\n0       <class 'int'>\n1       <class 'int'>\n2       <class 'int'>\n3       <class 'int'>\n4       <class 'int'>\n            ...      \n1257    <class 'int'>\n1258    <class 'int'>\n1259    <class 'int'>\n1260    <class 'int'>\n1261    <class 'int'>\nName: Q6, Length: 1262, dtype: object\n0       <class 'int'>\n1       <class 'int'>\n2       <class 'int'>\n3       <class 'int'>\n4       <class 'int'>\n            ...      \n1257    <class 'int'>\n1258    <class 'int'>\n1259    <class 'int'>\n1260    <class 'int'>\n1261    <class 'int'>\nName: Q7, Length: 1262, dtype: object\n0       <class 'int'>\n1       <class 'int'>\n2       <class 'int'>\n3       <class 'int'>\n4       <class 'int'>\n            ...      \n1257    <class 'int'>\n1258    <class 'int'>\n1259    <class 'int'>\n1260    <class 'int'>\n1261    <class 'int'>\nName: GAD7, Length: 1262, dtype: object\n0       <class 'int'>\n1       <class 'int'>\n2       <class 'int'>\n3       <class 'int'>\n4       <class 'int'>\n            ...      \n1257    <class 'int'>\n1258    <class 'int'>\n1259    <class 'int'>\n1260    <class 'int'>\n1261    <class 'int'>\nName: Q8, Length: 1262, dtype: object\n0       <class 'int'>\n1       <class 'int'>\n2       <class 'int'>\n3       <class 'int'>\n4       <class 'int'>\n            ...      \n1257    <class 'int'>\n1258    <class 'int'>\n1259    <class 'int'>\n1260    <class 'int'>\n1261    <class 'int'>\nName: Q9, Length: 1262, dtype: object\n0       <class 'int'>\n1       <class 'int'>\n2       <class 'int'>\n3       <class 'int'>\n4       <class 'int'>\n            ...      \n1257    <class 'int'>\n1258    <class 'int'>\n1259    <class 'int'>\n1260    <class 'int'>\n1261    <class 'int'>\nName: Q13, Length: 1262, dtype: object\n0       <class 'int'>\n1       <class 'int'>\n2       <class 'int'>\n3       <class 'int'>\n4       <class 'int'>\n            ...      \n1257    <class 'int'>\n1258    <class 'int'>\n1259    <class 'int'>\n1260    <class 'int'>\n1261    <class 'int'>\nName: Q14, Length: 1262, dtype: object\n0       <class 'int'>\n1       <class 'int'>\n2       <class 'int'>\n3       <class 'int'>\n4       <class 'int'>\n            ...      \n1257    <class 'int'>\n1258    <class 'int'>\n1259    <class 'int'>\n1260    <class 'int'>\n1261    <class 'int'>\nName: Q15, Length: 1262, dtype: object\n0       <class 'int'>\n1       <class 'int'>\n2       <class 'int'>\n3       <class 'int'>\n4       <class 'int'>\n            ...      \n1257    <class 'int'>\n1258    <class 'int'>\n1259    <class 'int'>\n1260    <class 'int'>\n1261    <class 'int'>\nName: Q16, Length: 1262, dtype: object\n0       <class 'int'>\n1       <class 'int'>\n2       <class 'int'>\n3       <class 'int'>\n4       <class 'int'>\n            ...      \n1257    <class 'int'>\n1258    <class 'int'>\n1259    <class 'int'>\n1260    <class 'int'>\n1261    <class 'int'>\nName: Q17, Length: 1262, dtype: object\n0       <class 'int'>\n1       <class 'int'>\n2       <class 'int'>\n3       <class 'int'>\n4       <class 'int'>\n            ...      \n1257    <class 'int'>\n1258    <class 'int'>\n1259    <class 'int'>\n1260    <class 'int'>\n1261    <class 'int'>\nName: Q18, Length: 1262, dtype: object\n0       <class 'int'>\n1       <class 'int'>\n2       <class 'int'>\n3       <class 'int'>\n4       <class 'int'>\n            ...      \n1257    <class 'int'>\n1258    <class 'int'>\n1259    <class 'int'>\n1260    <class 'int'>\n1261    <class 'int'>\nName: Q19, Length: 1262, dtype: object\n0       <class 'int'>\n1       <class 'int'>\n2       <class 'int'>\n3       <class 'int'>\n4       <class 'int'>\n            ...      \n1257    <class 'int'>\n1258    <class 'int'>\n1259    <class 'int'>\n1260    <class 'int'>\n1261    <class 'int'>\nName: Q20, Length: 1262, dtype: object\n0       <class 'int'>\n1       <class 'int'>\n2       <class 'int'>\n3       <class 'int'>\n4       <class 'int'>\n            ...      \n1257    <class 'int'>\n1258    <class 'int'>\n1259    <class 'int'>\n1260    <class 'int'>\n1261    <class 'int'>\nName: Q21, Length: 1262, dtype: object\n0       <class 'int'>\n1       <class 'int'>\n2       <class 'int'>\n3       <class 'int'>\n4       <class 'int'>\n            ...      \n1257    <class 'int'>\n1258    <class 'int'>\n1259    <class 'int'>\n1260    <class 'int'>\n1261    <class 'int'>\nName: DES10, Length: 1262, dtype: object\n0       <class 'int'>\n1       <class 'int'>\n2       <class 'int'>\n3       <class 'int'>\n4       <class 'int'>\n            ...      \n1257    <class 'int'>\n1258    <class 'int'>\n1259    <class 'int'>\n1260    <class 'int'>\n1261    <class 'int'>\nName: sleepquality (0=bad quality, 1=good quality), Length: 1262, dtype: object\n0         <class 'int'>\n1       <class 'float'>\n2         <class 'int'>\n3         <class 'int'>\n4         <class 'int'>\n             ...       \n1257    <class 'float'>\n1258      <class 'int'>\n1259      <class 'str'>\n1260      <class 'int'>\n1261      <class 'int'>\nName: sleepduration (in hours), Length: 1262, dtype: object\n0       <class 'str'>\n1       <class 'str'>\n2       <class 'str'>\n3       <class 'str'>\n4       <class 'str'>\n            ...      \n1257    <class 'str'>\n1258    <class 'str'>\n1259    <class 'str'>\n1260    <class 'str'>\n1261    <class 'str'>\nName: sleepproblems (0=no problems, 1=at least 1 problem), Length: 1262, dtype: object\n0       <class 'str'>\n1       <class 'str'>\n2       <class 'str'>\n3       <class 'str'>\n4       <class 'str'>\n            ...      \n1257    <class 'str'>\n1258    <class 'str'>\n1259    <class 'str'>\n1260    <class 'str'>\n1261    <class 'str'>\nName: phys1, Length: 1262, dtype: object\n0       <class 'str'>\n1       <class 'str'>\n2       <class 'str'>\n3       <class 'str'>\n4       <class 'str'>\n            ...      \n1257    <class 'str'>\n1258    <class 'str'>\n1259    <class 'str'>\n1260    <class 'str'>\n1261    <class 'str'>\nName: phys2, Length: 1262, dtype: object\n0       <class 'str'>\n1       <class 'str'>\n2       <class 'str'>\n3       <class 'str'>\n4       <class 'str'>\n            ...      \n1257    <class 'str'>\n1258    <class 'str'>\n1259    <class 'str'>\n1260    <class 'str'>\n1261    <class 'str'>\nName: phys3, Length: 1262, dtype: object\n0       <class 'str'>\n1       <class 'str'>\n2       <class 'str'>\n3       <class 'str'>\n4       <class 'str'>\n            ...      \n1257    <class 'str'>\n1258    <class 'str'>\n1259    <class 'str'>\n1260    <class 'str'>\n1261    <class 'str'>\nName: phys4, Length: 1262, dtype: object\n0       <class 'int'>\n1       <class 'int'>\n2       <class 'int'>\n3       <class 'int'>\n4       <class 'int'>\n            ...      \n1257    <class 'int'>\n1258    <class 'int'>\n1259    <class 'int'>\n1260    <class 'int'>\n1261    <class 'int'>\nName: gender, Length: 1262, dtype: object\n0       <class 'str'>\n1       <class 'str'>\n2       <class 'str'>\n3       <class 'str'>\n4       <class 'int'>\n            ...      \n1257    <class 'int'>\n1258    <class 'int'>\n1259    <class 'str'>\n1260    <class 'int'>\n1261    <class 'int'>\nName: age, Length: 1262, dtype: object\n0       <class 'str'>\n1       <class 'str'>\n2       <class 'str'>\n3       <class 'str'>\n4       <class 'str'>\n            ...      \n1257    <class 'str'>\n1258    <class 'str'>\n1259    <class 'str'>\n1260    <class 'str'>\n1261    <class 'str'>\nName: city, Length: 1262, dtype: object\n"
     ]
    }
   ],
   "source": [
    "for col in Df:\n",
    "    print(Df[col].apply(type))"
   ]
  },
  {
   "cell_type": "code",
   "execution_count": 5,
   "metadata": {},
   "outputs": [
    {
     "output_type": "execute_result",
     "data": {
      "text/plain": [
       "Q1                                                      Int64\n",
       "Q2                                                      Int64\n",
       "Q3                                                      Int64\n",
       "Q4                                                      Int64\n",
       "Q5                                                      Int64\n",
       "Q6                                                      Int64\n",
       "Q7                                                      Int64\n",
       "GAD7                                                    Int64\n",
       "Q8                                                      Int64\n",
       "Q9                                                      Int64\n",
       "Q13                                                     Int64\n",
       "Q14                                                     Int64\n",
       "Q15                                                     Int64\n",
       "Q16                                                     Int64\n",
       "Q17                                                     Int64\n",
       "Q18                                                     Int64\n",
       "Q19                                                     Int64\n",
       "Q20                                                     Int64\n",
       "Q21                                                     Int64\n",
       "DES10                                                   Int64\n",
       "sleepquality (0=bad quality, 1=good quality)            Int64\n",
       "sleepduration (in hours)                               object\n",
       "sleepproblems (0=no problems, 1=at least 1 problem)    string\n",
       "phys1                                                  object\n",
       "phys2                                                  string\n",
       "phys3                                                  object\n",
       "phys4                                                  string\n",
       "gender                                                  Int64\n",
       "age                                                    object\n",
       "city                                                   string\n",
       "dtype: object"
      ]
     },
     "metadata": {},
     "execution_count": 5
    }
   ],
   "source": [
    "Df.convert_dtypes().dtypes"
   ]
  },
  {
   "cell_type": "code",
   "execution_count": 6,
   "metadata": {},
   "outputs": [
    {
     "output_type": "execute_result",
     "data": {
      "text/plain": [
       "Index(['Q1', 'Q2', 'Q3', 'Q4', 'Q5', 'Q6', 'Q7', 'GAD7', 'Q8', 'Q9', 'Q13',\n",
       "       'Q14', 'Q15', 'Q16', 'Q17', 'Q18', 'Q19', 'Q20', 'Q21', 'DES10',\n",
       "       'sleepquality (0=bad quality, 1=good quality)',\n",
       "       'sleepduration (in hours)',\n",
       "       'sleepproblems (0=no problems, 1=at least 1 problem)', 'phys1', 'phys2',\n",
       "       'phys3', 'phys4', 'gender', 'age', 'city'],\n",
       "      dtype='object', name=0)"
      ]
     },
     "metadata": {},
     "execution_count": 6
    }
   ],
   "source": [
    "Df.columns"
   ]
  },
  {
   "cell_type": "code",
   "execution_count": 7,
   "metadata": {},
   "outputs": [],
   "source": [
    "Df=Df.dropna()"
   ]
  },
  {
   "cell_type": "code",
   "execution_count": 8,
   "metadata": {},
   "outputs": [
    {
     "output_type": "stream",
     "name": "stderr",
     "text": [
      "<ipython-input-8-229a0ba3b47e>:2: SettingWithCopyWarning: \nA value is trying to be set on a copy of a slice from a DataFrame.\nTry using .loc[row_indexer,col_indexer] = value instead\n\nSee the caveats in the documentation: https://pandas.pydata.org/pandas-docs/stable/user_guide/indexing.html#returning-a-view-versus-a-copy\n  Df['city']=Df['city'].str.strip().str.lower().str.capitalize()\n"
     ]
    }
   ],
   "source": [
    "#Handling city column anomalies\n",
    "Df['city']=Df['city'].str.strip().str.lower().str.capitalize()"
   ]
  },
  {
   "cell_type": "code",
   "execution_count": 9,
   "metadata": {},
   "outputs": [
    {
     "output_type": "execute_result",
     "data": {
      "text/plain": [
       "array(['Amman', 'Irbid', 'Zarqa', 'Karak', 'Aqaba', 'Salt', 'Maan',\n",
       "       'Jarash', 'Petra', 'Mafraq', 'Madaba', 'Ajloun', 'Tafila', 'Balqa'],\n",
       "      dtype=object)"
      ]
     },
     "metadata": {},
     "execution_count": 9
    }
   ],
   "source": [
    "Df['city'].unique()"
   ]
  },
  {
   "cell_type": "code",
   "execution_count": 10,
   "metadata": {},
   "outputs": [
    {
     "output_type": "execute_result",
     "data": {
      "text/plain": [
       "Amman     935\n",
       "Irbid     107\n",
       "Zarqa      91\n",
       "Salt       26\n",
       "Madaba     19\n",
       "Mafraq     16\n",
       "Aqaba      15\n",
       "Jarash     10\n",
       "Ajloun      7\n",
       "Maan        6\n",
       "Karak       6\n",
       "Petra       4\n",
       "Balqa       3\n",
       "Tafila      2\n",
       "Name: city, dtype: int64"
      ]
     },
     "metadata": {},
     "execution_count": 10
    }
   ],
   "source": [
    "Df['city'].value_counts()"
   ]
  },
  {
   "cell_type": "code",
   "execution_count": 11,
   "metadata": {},
   "outputs": [
    {
     "output_type": "execute_result",
     "data": {
      "text/plain": [
       "1    0.816359\n",
       "0    0.183641\n",
       "Name: sleepquality (0=bad quality, 1=good quality), dtype: float64"
      ]
     },
     "metadata": {},
     "execution_count": 11
    }
   ],
   "source": [
    "Df['sleepquality (0=bad quality, 1=good quality)'].value_counts(normalize=True)"
   ]
  },
  {
   "cell_type": "code",
   "execution_count": 12,
   "metadata": {},
   "outputs": [
    {
     "output_type": "execute_result",
     "data": {
      "text/plain": [
       "3     0.119487\n",
       "4     0.105052\n",
       "5     0.094627\n",
       "2     0.093023\n",
       "6     0.081796\n",
       "0     0.076985\n",
       "1     0.075381\n",
       "7     0.074579\n",
       "8     0.048917\n",
       "10    0.036889\n",
       "9     0.035285\n",
       "11    0.029671\n",
       "12    0.023256\n",
       "13    0.020850\n",
       "14    0.020850\n",
       "15    0.013633\n",
       "16    0.013633\n",
       "21    0.012029\n",
       "19    0.008821\n",
       "17    0.008019\n",
       "18    0.004812\n",
       "20    0.002406\n",
       "Name: GAD7, dtype: float64"
      ]
     },
     "metadata": {},
     "execution_count": 12
    }
   ],
   "source": [
    "Df.GAD7.value_counts(normalize=True)"
   ]
  },
  {
   "cell_type": "code",
   "execution_count": 13,
   "metadata": {},
   "outputs": [
    {
     "output_type": "execute_result",
     "data": {
      "text/plain": [
       "8      0.138733\n",
       "8      0.125100\n",
       "7      0.089816\n",
       "7      0.080994\n",
       "6      0.069767\n",
       "         ...   \n",
       "45     0.000802\n",
       " 6     0.000802\n",
       "20     0.000802\n",
       "4.5    0.000802\n",
       "60     0.000802\n",
       "Name: sleepduration (in hours), Length: 73, dtype: float64"
      ]
     },
     "metadata": {},
     "execution_count": 13
    }
   ],
   "source": [
    "Df['sleepduration (in hours)'].value_counts(normalize=True)"
   ]
  },
  {
   "cell_type": "code",
   "execution_count": 14,
   "metadata": {},
   "outputs": [
    {
     "output_type": "execute_result",
     "data": {
      "text/plain": [
       "0\n",
       "Q1                                                     <class 'int'>\n",
       "Q2                                                     <class 'int'>\n",
       "Q3                                                     <class 'int'>\n",
       "Q4                                                     <class 'int'>\n",
       "Q5                                                     <class 'int'>\n",
       "Q6                                                     <class 'int'>\n",
       "Q7                                                     <class 'int'>\n",
       "GAD7                                                   <class 'int'>\n",
       "Q8                                                     <class 'int'>\n",
       "Q9                                                     <class 'int'>\n",
       "Q13                                                    <class 'int'>\n",
       "Q14                                                    <class 'int'>\n",
       "Q15                                                    <class 'int'>\n",
       "Q16                                                    <class 'int'>\n",
       "Q17                                                    <class 'int'>\n",
       "Q18                                                    <class 'int'>\n",
       "Q19                                                    <class 'int'>\n",
       "Q20                                                    <class 'int'>\n",
       "Q21                                                    <class 'int'>\n",
       "DES10                                                  <class 'int'>\n",
       "sleepquality (0=bad quality, 1=good quality)           <class 'int'>\n",
       "sleepduration (in hours)                               <class 'str'>\n",
       "sleepproblems (0=no problems, 1=at least 1 problem)    <class 'str'>\n",
       "phys1                                                  <class 'str'>\n",
       "phys2                                                  <class 'str'>\n",
       "phys3                                                  <class 'str'>\n",
       "phys4                                                  <class 'str'>\n",
       "gender                                                 <class 'int'>\n",
       "age                                                    <class 'int'>\n",
       "city                                                   <class 'str'>\n",
       "Name: 170, dtype: object"
      ]
     },
     "metadata": {},
     "execution_count": 14
    }
   ],
   "source": [
    "Df.iloc[169].apply(type)"
   ]
  },
  {
   "cell_type": "code",
   "execution_count": 15,
   "metadata": {},
   "outputs": [],
   "source": [
    "Df=Df.dropna()"
   ]
  },
  {
   "cell_type": "code",
   "execution_count": 16,
   "metadata": {},
   "outputs": [
    {
     "output_type": "execute_result",
     "data": {
      "text/plain": [
       "'Df.astype({\"age\": int, \"sleepproblems (0=no problems, 1=at least 1 problem)\": int,\"sleepduration (in hours)\":float })\\npd.to_numeric(Df[\\'phys1\\'])\\npd.to_numeric(Df[\\'phys2\\'])\\npd.to_numeric(Df[\\'phys3\\'])\\npd.to_numeric(Df[\\'phys4\\'])'"
      ]
     },
     "metadata": {},
     "execution_count": 16
    }
   ],
   "source": [
    "\"\"\"Df.astype({\"age\": int, \"sleepproblems (0=no problems, 1=at least 1 problem)\": int,\"sleepduration (in hours)\":float })\n",
    "pd.to_numeric(Df['phys1'])\n",
    "pd.to_numeric(Df['phys2'])\n",
    "pd.to_numeric(Df['phys3'])\n",
    "pd.to_numeric(Df['phys4'])\"\"\""
   ]
  }
 ]
}